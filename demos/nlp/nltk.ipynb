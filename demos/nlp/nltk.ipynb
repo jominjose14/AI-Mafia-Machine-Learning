{
 "cells": [
  {
   "cell_type": "markdown",
   "id": "1f392373",
   "metadata": {},
   "source": [
    "# NLP using NLTK"
   ]
  },
  {
   "cell_type": "markdown",
   "id": "7a8a9268",
   "metadata": {},
   "source": [
    "##### NLP Pipeline\n",
    "- Data collection\n",
    "- Tokenization, Stopword Removal, Stemming\n",
    "- Building a common vocab\n",
    "- Vectorize documents\n",
    "- Perform Classification/Clustering"
   ]
  },
  {
   "cell_type": "markdown",
   "id": "1ba3c8f8",
   "metadata": {},
   "source": [
    "### 1) Data Collection"
   ]
  },
  {
   "cell_type": "code",
   "execution_count": null,
   "id": "295895cf",
   "metadata": {},
   "outputs": [
    {
     "name": "stderr",
     "output_type": "stream",
     "text": [
      "[nltk_data] Downloading package brown to\n",
      "[nltk_data]     C:\\Users\\jomin\\AppData\\Roaming\\nltk_data...\n",
      "[nltk_data]   Unzipping corpora\\brown.zip.\n"
     ]
    },
    {
     "data": {
      "text/plain": [
       "True"
      ]
     },
     "execution_count": 4,
     "metadata": {},
     "output_type": "execute_result"
    }
   ],
   "source": [
    "import nltk\n",
    "nltk.download('brown')\n",
    "nltk.download('punkt_tab')\n",
    "nltk.download('stopwords')"
   ]
  },
  {
   "cell_type": "code",
   "execution_count": 1,
   "id": "acd82674",
   "metadata": {},
   "outputs": [],
   "source": [
    "from nltk.corpus import brown"
   ]
  },
  {
   "cell_type": "code",
   "execution_count": 5,
   "id": "91b56a52",
   "metadata": {},
   "outputs": [
    {
     "name": "stdout",
     "output_type": "stream",
     "text": [
      "['adventure', 'belles_lettres', 'editorial', 'fiction', 'government', 'hobbies', 'humor', 'learned', 'lore', 'mystery', 'news', 'religion', 'reviews', 'romance', 'science_fiction']\n"
     ]
    }
   ],
   "source": [
    "print(brown.categories())"
   ]
  },
  {
   "cell_type": "code",
   "execution_count": 7,
   "id": "bbda087b",
   "metadata": {},
   "outputs": [
    {
     "name": "stdout",
     "output_type": "stream",
     "text": [
      "<class 'nltk.collections.LazySubsequence'> 100\n",
      "[['Assembly', 'session', 'brought', 'much', 'good'], ['The', 'General', 'Assembly', ',', 'which', 'adjourns', 'today', ',', 'has', 'performed', 'in', 'an', 'atmosphere', 'of', 'crisis', 'and', 'struggle', 'from', 'the', 'day', 'it', 'convened', '.'], ...]\n"
     ]
    }
   ],
   "source": [
    "data = brown.sents(categories='editorial')[:100]\n",
    "print(type(data), len(data))\n",
    "print(data)"
   ]
  },
  {
   "cell_type": "markdown",
   "id": "b66aa5d5",
   "metadata": {},
   "source": [
    "### 2.1) Tokenization"
   ]
  },
  {
   "cell_type": "code",
   "execution_count": 11,
   "id": "95ef201f",
   "metadata": {},
   "outputs": [],
   "source": [
    "text = 'It was a very pleasant day, the weather was cool and there were showers. I went to the market to buy some fruits.'"
   ]
  },
  {
   "cell_type": "code",
   "execution_count": 9,
   "id": "0547fb5e",
   "metadata": {},
   "outputs": [],
   "source": [
    "from nltk.tokenize import sent_tokenize, word_tokenize"
   ]
  },
  {
   "cell_type": "code",
   "execution_count": 14,
   "id": "34678f10",
   "metadata": {},
   "outputs": [
    {
     "data": {
      "text/plain": [
       "['It was a very pleasant day, the weather was cool and there were showers.',\n",
       " 'I went to the market to buy some fruits.']"
      ]
     },
     "execution_count": 14,
     "metadata": {},
     "output_type": "execute_result"
    }
   ],
   "source": [
    "sents = sent_tokenize(text)\n",
    "sents"
   ]
  },
  {
   "cell_type": "code",
   "execution_count": 16,
   "id": "164e68c1",
   "metadata": {},
   "outputs": [
    {
     "name": "stdout",
     "output_type": "stream",
     "text": [
      "['it', 'was', 'a', 'very', 'pleasant', 'day', ',', 'the', 'weather', 'was', 'cool', 'and', 'there', 'were', 'showers', '.']\n"
     ]
    }
   ],
   "source": [
    "word_list = word_tokenize(sents[0].lower())\n",
    "print(word_list)"
   ]
  },
  {
   "cell_type": "markdown",
   "id": "26141693",
   "metadata": {},
   "source": [
    "### 2.2) Stopword Removal"
   ]
  },
  {
   "cell_type": "code",
   "execution_count": 17,
   "id": "e179073c",
   "metadata": {},
   "outputs": [],
   "source": [
    "from nltk.corpus import stopwords"
   ]
  },
  {
   "cell_type": "code",
   "execution_count": 21,
   "id": "d7816de2",
   "metadata": {},
   "outputs": [
    {
     "name": "stdout",
     "output_type": "stream",
     "text": [
      "{'not', 'again', 'himself', \"we're\", 'few', 'didn', 'which', 'to', 'for', 'having', 'were', \"weren't\", 'been', \"wouldn't\", 'own', 'how', 'from', \"they've\", 'haven', 'shan', 'other', 'all', \"isn't\", 'between', \"we've\", 'wasn', 'needn', \"they'd\", 'should', 'such', \"hadn't\", 'what', 'out', 'has', 'some', 'you', 'them', 'after', 'below', \"don't\", 'mightn', 'this', 'yourself', \"shan't\", 'that', 'under', 'i', \"you'll\", 'any', \"mustn't\", 'off', 'she', \"shouldn't\", 'or', 'if', 'hadn', 'will', \"we'd\", 'isn', 'their', 'until', 'hers', \"you'd\", 'only', 'll', 'hasn', 'won', 'and', 'am', 'nor', 'when', 'with', \"doesn't\", \"you're\", 'of', \"i'd\", 'don', 'there', 'while', 'ours', 'against', 'about', 'before', 'just', 'have', 'o', 're', \"that'll\", 'wouldn', \"she'll\", \"she'd\", 'then', 'now', \"you've\", \"haven't\", 'itself', 'he', 'myself', 'once', 'ourselves', 'ain', \"she's\", 'it', \"they're\", 'was', 'whom', 'up', \"i've\", 'shouldn', 'where', 'an', 'couldn', 'd', 'can', 'aren', 'these', 'be', 'both', \"won't\", 'him', 'but', 'me', \"it'll\", 'very', 'as', 'same', 'no', 'too', \"couldn't\", 'her', \"they'll\", 'on', 'his', 'through', 'does', 'a', 'most', 'the', 'those', 'did', 'themselves', 'our', 'doing', 'had', 'herself', 'than', 'each', 'm', 'into', \"he'll\", 'by', \"it's\", 'above', 'are', 'during', 'why', \"he'd\", \"aren't\", 'because', 'its', \"i'm\", 't', \"mightn't\", 's', 'is', 'ma', 'mustn', \"didn't\", \"we'll\", 'theirs', 'over', 'they', 'in', 'here', 'being', 'my', 'we', \"should've\", 'y', 'so', 'further', 'who', 'yourselves', \"wasn't\", 'do', 'yours', 'down', 'doesn', 'weren', 'more', 'your', \"i'll\", \"it'd\", \"needn't\", 'at', \"hasn't\", 've', \"he's\"}\n",
      "198\n"
     ]
    }
   ],
   "source": [
    "sw = set(stopwords.words('english'))\n",
    "print(sw)\n",
    "print(len(sw))"
   ]
  },
  {
   "cell_type": "markdown",
   "id": "fa0c275f",
   "metadata": {},
   "source": [
    "#### Filter words from sentence"
   ]
  },
  {
   "cell_type": "code",
   "execution_count": 22,
   "id": "446de0d7",
   "metadata": {},
   "outputs": [],
   "source": [
    "def filter_words(word_list):\n",
    "    useful_words = [w for w in word_list if w not in sw]\n",
    "    return useful_words"
   ]
  },
  {
   "cell_type": "code",
   "execution_count": 23,
   "id": "70ff95d1",
   "metadata": {},
   "outputs": [
    {
     "name": "stdout",
     "output_type": "stream",
     "text": [
      "['pleasant', 'day', ',', 'weather', 'cool', 'showers', '.']\n"
     ]
    }
   ],
   "source": [
    "useful_words = filter_words(word_list)\n",
    "print(useful_words)"
   ]
  },
  {
   "cell_type": "code",
   "execution_count": 24,
   "id": "f04155e2",
   "metadata": {},
   "outputs": [],
   "source": [
    "from nltk.tokenize import RegexpTokenizer"
   ]
  },
  {
   "cell_type": "code",
   "execution_count": 31,
   "id": "04a25edf",
   "metadata": {},
   "outputs": [],
   "source": [
    "tokenizer = RegexpTokenizer('[a-zA-Z0-9]+')"
   ]
  },
  {
   "cell_type": "code",
   "execution_count": 29,
   "id": "f57c9544",
   "metadata": {},
   "outputs": [
    {
     "name": "stdout",
     "output_type": "stream",
     "text": [
      "['send', 'the', '50', 'documents', 'to', 'abc', 'def', 'ghi']\n"
     ]
    }
   ],
   "source": [
    "sent = 'send the 50 documents to abc, def, ghi.'\n",
    "print(tokenizer.tokenize(sent))"
   ]
  },
  {
   "cell_type": "markdown",
   "id": "8469e553",
   "metadata": {},
   "source": [
    "### 2.3) Stemming\n",
    "- Process that transforms particular words into root words\n",
    "- Jumping, jump, jumps, jumped => jump"
   ]
  },
  {
   "cell_type": "code",
   "execution_count": 30,
   "id": "34bdbbbb",
   "metadata": {},
   "outputs": [],
   "source": [
    "text = 'The quick brown fox was seen jumping on the lazy dog from a high wall. Foxes love to make jumps.'"
   ]
  },
  {
   "cell_type": "code",
   "execution_count": 32,
   "id": "808a9357",
   "metadata": {},
   "outputs": [
    {
     "data": {
      "text/plain": [
       "['the',\n",
       " 'quick',\n",
       " 'brown',\n",
       " 'fox',\n",
       " 'was',\n",
       " 'seen',\n",
       " 'jumping',\n",
       " 'on',\n",
       " 'the',\n",
       " 'lazy',\n",
       " 'dog',\n",
       " 'from',\n",
       " 'a',\n",
       " 'high',\n",
       " 'wall',\n",
       " 'foxes',\n",
       " 'love',\n",
       " 'to',\n",
       " 'make',\n",
       " 'jumps']"
      ]
     },
     "execution_count": 32,
     "metadata": {},
     "output_type": "execute_result"
    }
   ],
   "source": [
    "word_list = tokenizer.tokenize(text.lower())\n",
    "word_list"
   ]
  },
  {
   "cell_type": "markdown",
   "id": "c0489df9",
   "metadata": {},
   "source": [
    "### Types of Stemmers\n",
    "- Snowball Stemmer (Multilingual)\n",
    "- Porter Stemmer (English only)\n",
    "- Lancaster Stemmer (English only)"
   ]
  },
  {
   "cell_type": "code",
   "execution_count": 33,
   "id": "e108075c",
   "metadata": {},
   "outputs": [],
   "source": [
    "from nltk.stem.snowball import PorterStemmer, SnowballStemmer\n",
    "from nltk.stem.lancaster import LancasterStemmer"
   ]
  },
  {
   "cell_type": "code",
   "execution_count": 34,
   "id": "b47a67ce",
   "metadata": {},
   "outputs": [],
   "source": [
    "ps = PorterStemmer()"
   ]
  },
  {
   "cell_type": "code",
   "execution_count": 35,
   "id": "f0cf45a9",
   "metadata": {},
   "outputs": [
    {
     "data": {
      "text/plain": [
       "'jump'"
      ]
     },
     "execution_count": 35,
     "metadata": {},
     "output_type": "execute_result"
    }
   ],
   "source": [
    "ps.stem('jumped')"
   ]
  },
  {
   "cell_type": "code",
   "execution_count": 36,
   "id": "a9ba576c",
   "metadata": {},
   "outputs": [
    {
     "data": {
      "text/plain": [
       "'jump'"
      ]
     },
     "execution_count": 36,
     "metadata": {},
     "output_type": "execute_result"
    }
   ],
   "source": [
    "ps.stem('jumping')"
   ]
  },
  {
   "cell_type": "code",
   "execution_count": 37,
   "id": "8aeb3de5",
   "metadata": {},
   "outputs": [
    {
     "data": {
      "text/plain": [
       "'love'"
      ]
     },
     "execution_count": 37,
     "metadata": {},
     "output_type": "execute_result"
    }
   ],
   "source": [
    "ps.stem('lovely')"
   ]
  },
  {
   "cell_type": "code",
   "execution_count": 38,
   "id": "18c77438",
   "metadata": {},
   "outputs": [
    {
     "data": {
      "text/plain": [
       "'awesom'"
      ]
     },
     "execution_count": 38,
     "metadata": {},
     "output_type": "execute_result"
    }
   ],
   "source": [
    "ps.stem('awesome')"
   ]
  },
  {
   "cell_type": "code",
   "execution_count": 39,
   "id": "d6ef8c6a",
   "metadata": {},
   "outputs": [
    {
     "data": {
      "text/plain": [
       "'awesom'"
      ]
     },
     "execution_count": 39,
     "metadata": {},
     "output_type": "execute_result"
    }
   ],
   "source": [
    "ls = LancasterStemmer()\n",
    "ls.stem('awesome')"
   ]
  },
  {
   "cell_type": "code",
   "execution_count": 40,
   "id": "cc315dcd",
   "metadata": {},
   "outputs": [
    {
     "data": {
      "text/plain": [
       "'teen'"
      ]
     },
     "execution_count": 40,
     "metadata": {},
     "output_type": "execute_result"
    }
   ],
   "source": [
    "ls.stem('teenager')"
   ]
  },
  {
   "cell_type": "code",
   "execution_count": 41,
   "id": "53a69246",
   "metadata": {},
   "outputs": [
    {
     "data": {
      "text/plain": [
       "'teenag'"
      ]
     },
     "execution_count": 41,
     "metadata": {},
     "output_type": "execute_result"
    }
   ],
   "source": [
    "ps.stem('teenager')"
   ]
  },
  {
   "cell_type": "code",
   "execution_count": 42,
   "id": "5cf4ec13",
   "metadata": {},
   "outputs": [
    {
     "data": {
      "text/plain": [
       "'love'"
      ]
     },
     "execution_count": 42,
     "metadata": {},
     "output_type": "execute_result"
    }
   ],
   "source": [
    "ss = SnowballStemmer('english')\n",
    "ss.stem('lovely')"
   ]
  },
  {
   "cell_type": "code",
   "execution_count": 43,
   "id": "de34f869",
   "metadata": {},
   "outputs": [
    {
     "data": {
      "text/plain": [
       "'cour'"
      ]
     },
     "execution_count": 43,
     "metadata": {},
     "output_type": "execute_result"
    }
   ],
   "source": [
    "ss = SnowballStemmer('french')\n",
    "ss.stem('courais')"
   ]
  },
  {
   "cell_type": "code",
   "execution_count": null,
   "id": "9545b16c",
   "metadata": {},
   "outputs": [],
   "source": []
  }
 ],
 "metadata": {
  "kernelspec": {
   "display_name": ".env-mafia",
   "language": "python",
   "name": "python3"
  },
  "language_info": {
   "codemirror_mode": {
    "name": "ipython",
    "version": 3
   },
   "file_extension": ".py",
   "mimetype": "text/x-python",
   "name": "python",
   "nbconvert_exporter": "python",
   "pygments_lexer": "ipython3",
   "version": "3.13.5"
  }
 },
 "nbformat": 4,
 "nbformat_minor": 5
}
